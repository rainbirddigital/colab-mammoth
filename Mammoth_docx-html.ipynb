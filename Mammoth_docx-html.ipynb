{
  "nbformat": 4,
  "nbformat_minor": 0,
  "metadata": {
    "colab": {
      "name": "Mammoth.word-docx-to-html-github.ipynb",
      "provenance": [],
      "collapsed_sections": [],
      "authorship_tag": "ABX9TyPXrQ25ZktFQNRxM1uQLaTx",
      "include_colab_link": true
    },
    "kernelspec": {
      "name": "python3",
      "display_name": "Python 3"
    },
    "language_info": {
      "name": "python"
    }
  },
  "cells": [
    {
      "cell_type": "markdown",
      "metadata": {
        "id": "view-in-github",
        "colab_type": "text"
      },
      "source": [
        "<a href=\"https://colab.research.google.com/github/rainbirddigital/mammoth/blob/main/Mammoth_word_docx_to_html_github.ipynb\" target=\"_parent\"><img src=\"https://colab.research.google.com/assets/colab-badge.svg\" alt=\"Open In Colab\"/></a>"
      ]
    },
    {
      "cell_type": "markdown",
      "metadata": {
        "id": "VAwAUilmObu0"
      },
      "source": [
        "# Mammoth: Word .docx to Html Conversion\n",
        "\n",
        "* By default [Mammoth](https://github.com/mwilliamson/python-mammoth) does not automatically convert blockquotes or captions so these must be added as custom styles within Word. To implement these add the a Word paragraph style **Quote** to blockquotes and **Caption** to image captions. \n",
        "* If you require further custom word styles to be mapped to the exported html these can be added in the **'Convert File'** cell below. Consult the [Mammoth documentation](https://github.com/mwilliamson/python-mammoth#writing-style-maps) for more information  \n",
        "\n"
      ]
    },
    {
      "cell_type": "markdown",
      "metadata": {
        "id": "EF-aCAcpb-7Q"
      },
      "source": [
        "## 1. Add Your Google Drive to Colab\n",
        "\n",
        "* Run the cell below to connect your Google Drive to Colab\n",
        "* Google will ask permission to share your details and then supply you with a code which you enter into the input box below. Press return/enter once you have added the code to the input field"
      ]
    },
    {
      "cell_type": "code",
      "metadata": {
        "id": "2d2UHajl_wuL"
      },
      "source": [
        "from google.colab import drive\n",
        "drive.mount('/content/drive')"
      ],
      "execution_count": null,
      "outputs": []
    },
    {
      "cell_type": "markdown",
      "metadata": {
        "id": "FJktIh4acXTu"
      },
      "source": [
        "## 2. Install Mammoth, Import files and settings\n",
        "* The cell below will Install Mammoth, create a directory **mammoth** on your Google Drive, import header/footer files and settings\n",
        "* If you have previously installed the files on your Google Drive the installation will be skipped and only settings applied.\n",
        "* If you require custom styles applied to your exported html you can edit these within the **header.htm** file"
      ]
    },
    {
      "cell_type": "code",
      "metadata": {
        "cellView": "form",
        "id": "-2C-lQWzHy0G"
      },
      "source": [
        "#@title Install Mammoth and settings\n",
        "!pip install mammoth\n",
        "header_filename = \"header.htm\"\n",
        "footer_filename = \"footer.htm\"\n",
        "input_directory = \"/content/drive/MyDrive/mammoth/\"\n",
        "output_directory = \"/content/drive/MyDrive/mammoth/exported-html/\"\n",
        "\n",
        "# Create Directories and Import Files\n",
        "import os\n",
        "if os.path.isdir(\"/content/drive/MyDrive/mammoth\"):\n",
        "  %cd \"/content/drive/MyDrive/mammoth\" \n",
        "elif os.path.isdir(\"/content/drive/\"):\n",
        "  %cd \"/content/drive/MyDrive/\"\n",
        "  !git clone https://github.com/rainbirddigital/mammoth\n",
        "  %cd mammoth\n",
        "  !mkdir exported-html\n",
        "elif os.path.isdir(\"/content/mammoth\"):\n",
        "  %cd \"/content/mammoth/\"\n",
        "  input_directory = \"/content/mammoth/\"\n",
        "  output_directory = \"/content/mammoth/exported-html/\"\n",
        "else:\n",
        "  !git clone https://github.com/rainbirddigital/mammoth\n",
        "  %cd mammoth\n",
        "  !mkdir exported-html\n",
        "  input_directory = \"/content/mammoth/\"\n",
        "  output_directory = \"/content/mammoth/exported-html/\"\n",
        "\n",
        "# Import Files\n",
        "%cd $input_directory\n",
        "with open(header_filename, 'r') as file:\n",
        "  header = file.read().replace('\\n', '')\n",
        "with open(footer_filename, 'r') as file:\n",
        "  footer = file.read().replace('\\n', '')"
      ],
      "execution_count": null,
      "outputs": []
    },
    {
      "cell_type": "markdown",
      "metadata": {
        "id": "DgSQuOIsdKoC"
      },
      "source": [
        "## 3. Convert .docx to .html\n",
        "* Add your .docx files into the mammoth directory on your Google Drive\n",
        "* Add the filename of your .docx document into the cell below\n",
        "* Then run the cell below to convert to html\n",
        "* To convert additional files, simply input a new .docx filename and run the cell again."
      ]
    },
    {
      "cell_type": "code",
      "metadata": {
        "id": "UEA-knTZAmdC",
        "cellView": "form"
      },
      "source": [
        "#@title Convert File\n",
        "docx_filename = \"mammoth-demo.docx\" #@param {type:\"string\"}\n",
        "\n",
        "#Change Styles. Format: word-style => html-style.optional-css-class\n",
        "output_filename = docx_filename.rsplit( \".\", 1 )[ 0 ] + \".html\"\n",
        "%cd $input_directory\n",
        "import mammoth\n",
        "# Map custom styles here\n",
        "style_map = \"\"\"\n",
        "u => u.underlined\n",
        "i => em\n",
        "table => div.tableWrap > table\n",
        "p[style-name='Quote'] => blockquote.quote:fresh\n",
        "p[style-name='Caption'] => figcaption.caption:fresh\n",
        "\"\"\"\n",
        "#Convert file and save html\n",
        "with open(docx_filename, \"rb\") as docx_file:\n",
        "    result = mammoth.convert_to_html(docx_file, style_map=style_map)\n",
        "    html = result.value\n",
        "    #messages = result.messages # Any messages, such as warnings during conversion\n",
        "    #print(messages)\n",
        "    %cd $output_directory\n",
        "    file = open(output_filename, \"w\")\n",
        "    file.write(header + html + footer)\n",
        "    #file.write(html)\n",
        "    file.close()"
      ],
      "execution_count": null,
      "outputs": []
    }
  ]
}
